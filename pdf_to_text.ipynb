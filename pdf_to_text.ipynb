{
 "cells": [
  {
   "cell_type": "code",
   "execution_count": 14,
   "metadata": {},
   "outputs": [],
   "source": [
    "# imports and libraries\n",
    "import pdfplumber\n",
    "import re\n",
    "import os\n",
    "from docx import Document\n",
    "import pytesseract\n",
    "from PIL import Image\n",
    "from docx.shared import Pt\n",
    "\n",
    "# Specify Tesseract executable path (adjust this path according to your installation)\n",
    "# pytesseract.pytesseract.tesseract_cmd = r'C:\\\\Applications\\\\miniconda3\\\\lib\\\\python3.9\\\\site-packages\\\\pytesseract'"
   ]
  },
  {
   "cell_type": "code",
   "execution_count": 7,
   "metadata": {},
   "outputs": [],
   "source": [
    "# Function to extract text from a PDF page using pdfplumber and pytesseract\n",
    "def extract_text_from_page(page):\n",
    "    # Extract text from the PDF page using pdfplumber\n",
    "    text = page.extract_text(layout = True)\n",
    "    \n",
    "    # If text extraction using pdfplumber fails, attempt OCR using pytesseract\n",
    "    if not text.strip():\n",
    "        # Extract images from the PDF page\n",
    "        images = page.images\n",
    "        \n",
    "        # Iterate through each image, extract text using pytesseract, and concatenate results\n",
    "        for img in images:\n",
    "            img_pil = page.to_image(resolution=300).original  # Convert PDF page to image\n",
    "            # img_pil = im.to_image()  # Convert pdfplumber Image to PIL Image\n",
    "            text += pytesseract.image_to_string(img_pil, lang='eng')\n",
    "    \n",
    "    return text\n",
    "\n",
    "# Function to convert a scanned PDF to images and extract text\n",
    "def convert_scanned_pdf_to_text(pdf_path):\n",
    "    with pdfplumber.open(pdf_path) as pdf:\n",
    "        doc = Document()\n",
    "        \n",
    "        for page in pdf.pages:\n",
    "        \n",
    "            # Extract text from the current page\n",
    "            text = extract_text_from_page(page)\n",
    "            \n",
    "            # Add extracted text to the Word document\n",
    "            doc.add_paragraph(text)\n",
    "            doc.add_page_break\n",
    "        \n",
    "        # Save the Word document\n",
    "        doc.save('extracted_text.docx')"
   ]
  },
  {
   "cell_type": "code",
   "execution_count": 4,
   "metadata": {},
   "outputs": [],
   "source": [
    "# Common execution: path definitions\n",
    "cwd = os.getcwd()\n",
    "\n",
    "input_directory = cwd + '/pdf_files/Notifications_0001.pdf'  # Replace with your PDF path\n",
    "output_directory = cwd + '/doc_files/doc1.docx'  # Replace with your output folder path\n",
    "\n",
    "# run function for extracting text from scanned images\n",
    "convert_scanned_pdf_to_text(input_directory)\n",
    "# output_doc.save(output_directory)"
   ]
  }
 ],
 "metadata": {
  "kernelspec": {
   "display_name": "base",
   "language": "python",
   "name": "python3"
  },
  "language_info": {
   "codemirror_mode": {
    "name": "ipython",
    "version": 3
   },
   "file_extension": ".py",
   "mimetype": "text/x-python",
   "name": "python",
   "nbconvert_exporter": "python",
   "pygments_lexer": "ipython3",
   "version": "3.12.4"
  },
  "orig_nbformat": 4
 },
 "nbformat": 4,
 "nbformat_minor": 2
}
